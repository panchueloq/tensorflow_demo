{
 "cells": [
  {
   "cell_type": "markdown",
   "id": "52bab02e",
   "metadata": {},
   "source": [
    "# 0. Data Crunching"
   ]
  },
  {
   "cell_type": "code",
   "execution_count": 1,
   "id": "9fc028bf",
   "metadata": {},
   "outputs": [],
   "source": [
    "import pandas as pd\n",
    "from sklearn.model_selection import train_test_split"
   ]
  },
  {
   "cell_type": "code",
   "execution_count": 2,
   "id": "73fe1912",
   "metadata": {},
   "outputs": [],
   "source": [
    "df = pd.read_csv('https://raw.githubusercontent.com/nicknochnack/Tensorflow-in-10-Minutes/main/Churn.csv')"
   ]
  },
  {
   "cell_type": "code",
   "execution_count": 3,
   "id": "353c7d31",
   "metadata": {},
   "outputs": [],
   "source": [
    "X = pd.get_dummies(df.drop(['Churn', 'Customer ID'], axis=1))\n",
    "y = df['Churn'].apply(lambda x: 1 if x=='Yes' else 0)"
   ]
  },
  {
   "cell_type": "code",
   "execution_count": 4,
   "id": "8bd35f64",
   "metadata": {},
   "outputs": [],
   "source": [
    "X_train, X_test, y_train, y_test = train_test_split(X, y, test_size=.2)"
   ]
  },
  {
   "cell_type": "code",
   "execution_count": 5,
   "id": "244a9970",
   "metadata": {},
   "outputs": [
    {
     "data": {
      "text/html": [
       "<div>\n",
       "<style scoped>\n",
       "    .dataframe tbody tr th:only-of-type {\n",
       "        vertical-align: middle;\n",
       "    }\n",
       "\n",
       "    .dataframe tbody tr th {\n",
       "        vertical-align: top;\n",
       "    }\n",
       "\n",
       "    .dataframe thead th {\n",
       "        text-align: right;\n",
       "    }\n",
       "</style>\n",
       "<table border=\"1\" class=\"dataframe\">\n",
       "  <thead>\n",
       "    <tr style=\"text-align: right;\">\n",
       "      <th></th>\n",
       "      <th>Senior Citizen</th>\n",
       "      <th>tenure</th>\n",
       "      <th>Monthly Charges</th>\n",
       "      <th>Gender_Female</th>\n",
       "      <th>Gender_Male</th>\n",
       "      <th>Partner_No</th>\n",
       "      <th>Partner_Yes</th>\n",
       "      <th>Dependents_No</th>\n",
       "      <th>Dependents_Yes</th>\n",
       "      <th>Phone Service_No</th>\n",
       "      <th>...</th>\n",
       "      <th>Total Charges_995.35</th>\n",
       "      <th>Total Charges_996.45</th>\n",
       "      <th>Total Charges_996.85</th>\n",
       "      <th>Total Charges_996.95</th>\n",
       "      <th>Total Charges_997.65</th>\n",
       "      <th>Total Charges_997.75</th>\n",
       "      <th>Total Charges_998.1</th>\n",
       "      <th>Total Charges_999.45</th>\n",
       "      <th>Total Charges_999.8</th>\n",
       "      <th>Total Charges_999.9</th>\n",
       "    </tr>\n",
       "  </thead>\n",
       "  <tbody>\n",
       "    <tr>\n",
       "      <th>1026</th>\n",
       "      <td>1</td>\n",
       "      <td>60</td>\n",
       "      <td>110.00</td>\n",
       "      <td>1</td>\n",
       "      <td>0</td>\n",
       "      <td>0</td>\n",
       "      <td>1</td>\n",
       "      <td>1</td>\n",
       "      <td>0</td>\n",
       "      <td>0</td>\n",
       "      <td>...</td>\n",
       "      <td>0</td>\n",
       "      <td>0</td>\n",
       "      <td>0</td>\n",
       "      <td>0</td>\n",
       "      <td>0</td>\n",
       "      <td>0</td>\n",
       "      <td>0</td>\n",
       "      <td>0</td>\n",
       "      <td>0</td>\n",
       "      <td>0</td>\n",
       "    </tr>\n",
       "    <tr>\n",
       "      <th>1004</th>\n",
       "      <td>0</td>\n",
       "      <td>37</td>\n",
       "      <td>19.85</td>\n",
       "      <td>1</td>\n",
       "      <td>0</td>\n",
       "      <td>1</td>\n",
       "      <td>0</td>\n",
       "      <td>1</td>\n",
       "      <td>0</td>\n",
       "      <td>0</td>\n",
       "      <td>...</td>\n",
       "      <td>0</td>\n",
       "      <td>0</td>\n",
       "      <td>0</td>\n",
       "      <td>0</td>\n",
       "      <td>0</td>\n",
       "      <td>0</td>\n",
       "      <td>0</td>\n",
       "      <td>0</td>\n",
       "      <td>0</td>\n",
       "      <td>0</td>\n",
       "    </tr>\n",
       "    <tr>\n",
       "      <th>2615</th>\n",
       "      <td>0</td>\n",
       "      <td>67</td>\n",
       "      <td>94.35</td>\n",
       "      <td>1</td>\n",
       "      <td>0</td>\n",
       "      <td>0</td>\n",
       "      <td>1</td>\n",
       "      <td>0</td>\n",
       "      <td>1</td>\n",
       "      <td>0</td>\n",
       "      <td>...</td>\n",
       "      <td>0</td>\n",
       "      <td>0</td>\n",
       "      <td>0</td>\n",
       "      <td>0</td>\n",
       "      <td>0</td>\n",
       "      <td>0</td>\n",
       "      <td>0</td>\n",
       "      <td>0</td>\n",
       "      <td>0</td>\n",
       "      <td>0</td>\n",
       "    </tr>\n",
       "    <tr>\n",
       "      <th>5912</th>\n",
       "      <td>0</td>\n",
       "      <td>7</td>\n",
       "      <td>34.20</td>\n",
       "      <td>0</td>\n",
       "      <td>1</td>\n",
       "      <td>0</td>\n",
       "      <td>1</td>\n",
       "      <td>1</td>\n",
       "      <td>0</td>\n",
       "      <td>1</td>\n",
       "      <td>...</td>\n",
       "      <td>0</td>\n",
       "      <td>0</td>\n",
       "      <td>0</td>\n",
       "      <td>0</td>\n",
       "      <td>0</td>\n",
       "      <td>0</td>\n",
       "      <td>0</td>\n",
       "      <td>0</td>\n",
       "      <td>0</td>\n",
       "      <td>0</td>\n",
       "    </tr>\n",
       "    <tr>\n",
       "      <th>3094</th>\n",
       "      <td>0</td>\n",
       "      <td>28</td>\n",
       "      <td>54.40</td>\n",
       "      <td>0</td>\n",
       "      <td>1</td>\n",
       "      <td>1</td>\n",
       "      <td>0</td>\n",
       "      <td>0</td>\n",
       "      <td>1</td>\n",
       "      <td>0</td>\n",
       "      <td>...</td>\n",
       "      <td>0</td>\n",
       "      <td>0</td>\n",
       "      <td>0</td>\n",
       "      <td>0</td>\n",
       "      <td>0</td>\n",
       "      <td>0</td>\n",
       "      <td>0</td>\n",
       "      <td>0</td>\n",
       "      <td>0</td>\n",
       "      <td>0</td>\n",
       "    </tr>\n",
       "  </tbody>\n",
       "</table>\n",
       "<p>5 rows × 6575 columns</p>\n",
       "</div>"
      ],
      "text/plain": [
       "      Senior Citizen  tenure  Monthly Charges  Gender_Female  Gender_Male  \\\n",
       "1026               1      60           110.00              1            0   \n",
       "1004               0      37            19.85              1            0   \n",
       "2615               0      67            94.35              1            0   \n",
       "5912               0       7            34.20              0            1   \n",
       "3094               0      28            54.40              0            1   \n",
       "\n",
       "      Partner_No  Partner_Yes  Dependents_No  Dependents_Yes  \\\n",
       "1026           0            1              1               0   \n",
       "1004           1            0              1               0   \n",
       "2615           0            1              0               1   \n",
       "5912           0            1              1               0   \n",
       "3094           1            0              0               1   \n",
       "\n",
       "      Phone Service_No  ...  Total Charges_995.35  Total Charges_996.45  \\\n",
       "1026                 0  ...                     0                     0   \n",
       "1004                 0  ...                     0                     0   \n",
       "2615                 0  ...                     0                     0   \n",
       "5912                 1  ...                     0                     0   \n",
       "3094                 0  ...                     0                     0   \n",
       "\n",
       "      Total Charges_996.85  Total Charges_996.95  Total Charges_997.65  \\\n",
       "1026                     0                     0                     0   \n",
       "1004                     0                     0                     0   \n",
       "2615                     0                     0                     0   \n",
       "5912                     0                     0                     0   \n",
       "3094                     0                     0                     0   \n",
       "\n",
       "      Total Charges_997.75  Total Charges_998.1  Total Charges_999.45  \\\n",
       "1026                     0                    0                     0   \n",
       "1004                     0                    0                     0   \n",
       "2615                     0                    0                     0   \n",
       "5912                     0                    0                     0   \n",
       "3094                     0                    0                     0   \n",
       "\n",
       "      Total Charges_999.8  Total Charges_999.9  \n",
       "1026                    0                    0  \n",
       "1004                    0                    0  \n",
       "2615                    0                    0  \n",
       "5912                    0                    0  \n",
       "3094                    0                    0  \n",
       "\n",
       "[5 rows x 6575 columns]"
      ]
     },
     "execution_count": 5,
     "metadata": {},
     "output_type": "execute_result"
    }
   ],
   "source": [
    "X_train.head()"
   ]
  },
  {
   "cell_type": "code",
   "execution_count": 6,
   "id": "78bed6cb",
   "metadata": {},
   "outputs": [
    {
     "data": {
      "text/plain": [
       "1026    0\n",
       "1004    0\n",
       "2615    1\n",
       "5912    0\n",
       "3094    0\n",
       "Name: Churn, dtype: int64"
      ]
     },
     "execution_count": 6,
     "metadata": {},
     "output_type": "execute_result"
    }
   ],
   "source": [
    "y_train.head()"
   ]
  },
  {
   "cell_type": "markdown",
   "id": "e6a3cb6d",
   "metadata": {},
   "source": [
    "# 1. Import Dependencies"
   ]
  },
  {
   "cell_type": "code",
   "execution_count": 7,
   "id": "1e78f34c",
   "metadata": {},
   "outputs": [
    {
     "name": "stderr",
     "output_type": "stream",
     "text": [
      "2022-08-23 15:04:43.982043: W tensorflow/stream_executor/platform/default/dso_loader.cc:64] Could not load dynamic library 'libcudart.so.11.0'; dlerror: libcudart.so.11.0: cannot open shared object file: No such file or directory\n",
      "2022-08-23 15:04:43.982103: I tensorflow/stream_executor/cuda/cudart_stub.cc:29] Ignore above cudart dlerror if you do not have a GPU set up on your machine.\n"
     ]
    }
   ],
   "source": [
    "from tensorflow.keras.models import Sequential, load_model\n",
    "from tensorflow.keras.layers import Dense\n",
    "from sklearn.metrics import accuracy_score"
   ]
  },
  {
   "cell_type": "markdown",
   "id": "e73fa1bd",
   "metadata": {},
   "source": [
    "# 2. Build and Compile Model"
   ]
  },
  {
   "cell_type": "code",
   "execution_count": 8,
   "id": "8da325aa",
   "metadata": {},
   "outputs": [],
   "source": [
    "# model = Sequential()\n",
    "# model.add(Dense(units=32, activation='relu', input_dim=len(X_train.columns)))\n",
    "# model.add(Dense(units=64, activation='relu'))\n",
    "# model.add(Dense(units=1, activation='sigmoid'))"
   ]
  },
  {
   "cell_type": "markdown",
   "id": "47614b88",
   "metadata": {},
   "source": [
    "# 3. Fit, Predict and Evaluate"
   ]
  },
  {
   "cell_type": "markdown",
   "id": "6fef2a95",
   "metadata": {},
   "source": [
    "# 4. Saving and Reloading"
   ]
  }
 ],
 "metadata": {
  "kernelspec": {
   "display_name": "Python 3 (ipykernel)",
   "language": "python",
   "name": "python3"
  },
  "language_info": {
   "codemirror_mode": {
    "name": "ipython",
    "version": 3
   },
   "file_extension": ".py",
   "mimetype": "text/x-python",
   "name": "python",
   "nbconvert_exporter": "python",
   "pygments_lexer": "ipython3",
   "version": "3.10.4"
  }
 },
 "nbformat": 4,
 "nbformat_minor": 5
}
